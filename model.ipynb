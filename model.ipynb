{
 "cells": [
  {
   "cell_type": "code",
   "execution_count": null,
   "id": "14dd6ba0",
   "metadata": {
    "vscode": {
     "languageId": "plaintext"
    }
   },
   "outputs": [],
   "source": [
    "!pip install roboflow\n",
    "\n",
    "from roboflow import Roboflow\n",
    "rf = Roboflow(api_key=\"GYyB5SrSjvJ2EZsyJgCl\")\n",
    "project = rf.workspace(\"yolo-boyoh\").project(\"blood-postion-t936i\")\n",
    "version = project.version(1)\n",
    "dataset = version.download(\"folder\")\n",
    "                "
   ]
  }
 ],
 "metadata": {
  "language_info": {
   "name": "python"
  }
 },
 "nbformat": 4,
 "nbformat_minor": 5
}
